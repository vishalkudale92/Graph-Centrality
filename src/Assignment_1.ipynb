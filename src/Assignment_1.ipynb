{
 "cells": [
  {
   "cell_type": "code",
   "execution_count": 1,
   "metadata": {
    "collapsed": true
   },
   "outputs": [],
   "source": [
    "#Assignment-1"
   ]
  },
  {
   "cell_type": "code",
   "execution_count": 2,
   "metadata": {
    "collapsed": true
   },
   "outputs": [],
   "source": [
    "import numpy as np\n",
    "import networkx as nx\n",
    "import matplotlib.pyplot as plt"
   ]
  },
  {
   "cell_type": "markdown",
   "metadata": {},
   "source": [
    "### Input Adjacency Matrix"
   ]
  },
  {
   "cell_type": "code",
   "execution_count": 3,
   "metadata": {
    "collapsed": true
   },
   "outputs": [],
   "source": [
    "A = np.array([[0,1,1,1,0,0,0,0,0],[1,0,1,0,0,0,0,0,0],[1,1,0,1,0,0,0,0,0],[1,0,1,0,1,1,0,0,0],[0,0,0,1,0,1,1,1,0],\n",
    "             [0,0,0,1,1,0,1,1,0],[0,0,0,0,1,1,0,1,1],[0,0,0,0,1,1,1,0,0],[0,0,0,0,0,0,1,0,0]])"
   ]
  },
  {
   "cell_type": "markdown",
   "metadata": {},
   "source": [
    "### Question 1 : Centrality \n",
    "\n",
    "### Implement degree, closeness, betweenness and eigenvector centrality in python. Your func-tions should take as input an adjacency matrix and return a list or vector of centrality values. You may focus on just undirected graphs. Do not simply invoke NetworkX functions."
   ]
  },
  {
   "cell_type": "markdown",
   "metadata": {},
   "source": [
    "### 1. Degree Centrality"
   ]
  },
  {
   "cell_type": "code",
   "execution_count": 4,
   "metadata": {
    "collapsed": true
   },
   "outputs": [],
   "source": [
    "# Function to calculate degree centrality\n",
    "def degree_centrality(M):\n",
    "    rows,column = M.shape\n",
    "    degree_c = np.zeros(rows)\n",
    "    \n",
    "    for i in range (rows):\n",
    "        degree = 0\n",
    "        for j in range (column):\n",
    "            degree += M[i,j]\n",
    "        degree_c[i] = degree/(rows-1)\n",
    "    \n",
    "    return degree_c   "
   ]
  },
  {
   "cell_type": "code",
   "execution_count": 5,
   "metadata": {},
   "outputs": [
    {
     "name": "stdout",
     "output_type": "stream",
     "text": [
      "Degree Centrality for the given Matrix :\n"
     ]
    },
    {
     "data": {
      "text/plain": [
       "array([ 0.375,  0.25 ,  0.375,  0.5  ,  0.5  ,  0.5  ,  0.5  ,  0.375,\n",
       "        0.125])"
      ]
     },
     "execution_count": 5,
     "metadata": {},
     "output_type": "execute_result"
    }
   ],
   "source": [
    "Degree_Centrality_output = degree_centrality(A)\n",
    "print(\"Degree Centrality for the given Matrix :\")\n",
    "Degree_Centrality_output"
   ]
  },
  {
   "cell_type": "code",
   "execution_count": 6,
   "metadata": {
    "collapsed": true
   },
   "outputs": [],
   "source": [
    "# This is just to check whether my code & in-built functions giving the same output or not.\n",
    "#result = nx.degree_centrality(H)\n",
    "#result"
   ]
  },
  {
   "cell_type": "markdown",
   "metadata": {},
   "source": [
    "### 2.Closeness Centrality"
   ]
  },
  {
   "cell_type": "code",
   "execution_count": 7,
   "metadata": {
    "collapsed": true
   },
   "outputs": [],
   "source": [
    "# Function to calculate closeness centrality\n",
    "def closeness_centrality(M):\n",
    "    rows,columns = M.shape\n",
    "    M_powers = [np.linalg.matrix_power(A,m) for m in range (rows)]\n",
    "    shortest_paths = np.zeros((rows,columns))\n",
    "    closeness_c = np.zeros(rows)\n",
    "    \n",
    "    #Calculate the length of shortest path from each node to every other node & store it in shortest_paths\n",
    "    for i in range(rows):\n",
    "        for j in range(columns):\n",
    "            for x in range(rows):\n",
    "                X = M_powers[x].copy()\n",
    "                if X[i,j] > 0 and i != j:\n",
    "                    shortest_paths[i,j] = x \n",
    "                    break\n",
    "    \n",
    "    #Calculating the closeness centrality for each node\n",
    "    for i in range (rows):\n",
    "        sum_of_all_shortest_path=0\n",
    "        for j in range(columns):\n",
    "                sum_of_all_shortest_path += shortest_paths[i,j]\n",
    "        closeness_c[i] = (rows-1)/sum_of_all_shortest_path\n",
    "    \n",
    "    return closeness_c   "
   ]
  },
  {
   "cell_type": "code",
   "execution_count": 8,
   "metadata": {},
   "outputs": [
    {
     "name": "stdout",
     "output_type": "stream",
     "text": [
      "Cloness Centrality for the given Matrix :\n"
     ]
    },
    {
     "data": {
      "text/plain": [
       "array([ 0.47058824,  0.34782609,  0.47058824,  0.61538462,  0.61538462,\n",
       "        0.61538462,  0.5       ,  0.47058824,  0.34782609])"
      ]
     },
     "execution_count": 8,
     "metadata": {},
     "output_type": "execute_result"
    }
   ],
   "source": [
    "Closeness_Centrality_output = closeness_centrality(A)\n",
    "print(\"Cloness Centrality for the given Matrix :\")\n",
    "Closeness_Centrality_output"
   ]
  },
  {
   "cell_type": "code",
   "execution_count": 9,
   "metadata": {
    "collapsed": true
   },
   "outputs": [],
   "source": [
    "# This is just to check whether my code & in-built functions giving the same output or not.\n",
    "#result = nx.closeness_centrality(H)\n",
    "#result"
   ]
  },
  {
   "cell_type": "markdown",
   "metadata": {},
   "source": [
    "### 3. Betweenness Centrality"
   ]
  },
  {
   "cell_type": "code",
   "execution_count": 10,
   "metadata": {
    "collapsed": true
   },
   "outputs": [],
   "source": [
    "# Function to calculate Betweenness centrality\n",
    "#Code from Professor's file\n",
    "\n",
    "def btwness_centrality(M):\n",
    "    rows,column = M.shape\n",
    "    A_powers = [np.linalg.matrix_power(M,m) for m in range(rows)]\n",
    "    sigma = np.zeros((rows,column))\n",
    "    min_lengths = np.zeros((rows,column))\n",
    "\n",
    "    for i in range(rows):\n",
    "        for j in range(column):\n",
    "            for x in range(rows):\n",
    "                X = A_powers[x].copy()\n",
    "                if X[i,j] > 0 and i != j:\n",
    "                    sigma[i,j] = X[i,j]\n",
    "                    min_lengths[i,j] = x + 1\n",
    "                    break\n",
    "    btwn_values = [betweenness(x, M, min_lengths, sigma) for x in range(len(M))]\n",
    "    return btwn_values\n",
    "                \n",
    "def sigma_through_jay(j, M, min_lengths, sigma):\n",
    "    # Number of shortest paths through node j\n",
    "    rows,column = M.shape\n",
    "    B = M.copy()\n",
    "    B[j] = np.zeros(rows)\n",
    "    B[:,j] = np.zeros(rows)\n",
    "    B_powers = [np.linalg.matrix_power(B,m) for m in range(rows)]\n",
    "    B_sigma = np.zeros((rows,column))\n",
    "    B_min_lengths = np.zeros((rows,column))\n",
    "    for i in range(rows):\n",
    "        for k in range(rows):\n",
    "            if i != k:\n",
    "                X = B_powers[int(min_lengths[i,k]-1)]\n",
    "                B_sigma[i,k] = X[i,k]\n",
    "    return (sigma - B_sigma)  \n",
    "\n",
    "def betweenness(j, M, min_lengths, sigma):\n",
    "    # Finally, the betweenness\n",
    "    rows,column = M.shape\n",
    "    sigst = sigma_through_jay(j, M, min_lengths, sigma)\n",
    "    total = 0\n",
    "    for i in range(rows):\n",
    "        for k in range(i):\n",
    "            if i != j and k != j:\n",
    "                total += sigst[i,k] / sigma[i,k]\n",
    "    # We return a single number.\n",
    "    return total"
   ]
  },
  {
   "cell_type": "code",
   "execution_count": 12,
   "metadata": {},
   "outputs": [
    {
     "name": "stdout",
     "output_type": "stream",
     "text": [
      "Betweenness Centrality of the given matrix is :\n"
     ]
    },
    {
     "data": {
      "text/plain": [
       "[3.0, 0.0, 3.0, 15.0, 6.0, 6.0, 7.0, 0.0, 0.0]"
      ]
     },
     "execution_count": 12,
     "metadata": {},
     "output_type": "execute_result"
    }
   ],
   "source": [
    "print(\"Betweenness Centrality of the given matrix is :\")\n",
    "btwn_values = btwness_centrality(A)\n",
    "btwn_values"
   ]
  },
  {
   "cell_type": "markdown",
   "metadata": {},
   "source": [
    "### 4. EigenVector Centrality"
   ]
  },
  {
   "cell_type": "code",
   "execution_count": 13,
   "metadata": {
    "collapsed": true
   },
   "outputs": [],
   "source": [
    "# Function to calculate Eigenvector Centrality\n",
    "def eigenvector_centrality(M):\n",
    "    eigenvalue,eigenvector = np.linalg.eig(M)\n",
    "\n",
    "    max_index= np.argmax(M)\n",
    "    #print(max_index)\n",
    "\n",
    "    result = np.zeros(len(eigenvector))\n",
    "    for i in range (len(eigenvector)):\n",
    "        array = eigenvector[i]\n",
    "        result[i] =array[max_index-1]\n",
    "    return result"
   ]
  },
  {
   "cell_type": "code",
   "execution_count": 14,
   "metadata": {},
   "outputs": [
    {
     "name": "stdout",
     "output_type": "stream",
     "text": [
      "1\n"
     ]
    },
    {
     "data": {
      "text/plain": [
       "array([ 0.1957488 ,  0.1116837 ,  0.1957488 ,  0.37874803,  0.46808548,\n",
       "        0.46808548,  0.40997939,  0.38402038,  0.11695606])"
      ]
     },
     "execution_count": 14,
     "metadata": {},
     "output_type": "execute_result"
    }
   ],
   "source": [
    "eigenvector_centrality_output = eigenvector_centrality(A)\n",
    "eigenvector_centrality_output"
   ]
  },
  {
   "cell_type": "code",
   "execution_count": 14,
   "metadata": {
    "collapsed": true
   },
   "outputs": [],
   "source": [
    "# This is just to check whether my code & in-built functions giving the same output or not.\n",
    "#result = nx.eigenvector_centrality(H)\n",
    "#result"
   ]
  },
  {
   "cell_type": "markdown",
   "metadata": {},
   "source": [
    "### Question 2: Graph Ploting\n",
    "\n",
    "### Create a function that takes as input an adjacency matrix and plots in the notebook a depiction of the associated graph with eigenvector centrality represented by node size. Nodes should be represented as circles. In other words, learn how to produce diagrams like this one:\n",
    "\n",
    "<img src=\"files/Assign1_graph.png\">\n",
    "\n"
   ]
  },
  {
   "cell_type": "code",
   "execution_count": 15,
   "metadata": {},
   "outputs": [
    {
     "data": {
      "image/png": "[encoded data removed]",
      "text/plain": [
       "<matplotlib.figure.Figure at 0x1212d11fc88>"
      ]
     },
     "metadata": {},
     "output_type": "display_data"
    }
   ],
   "source": [
    "# Function to draw graph using adjacency matrix \n",
    "H = nx.from_numpy_matrix(A)\n",
    "pos=nx.circular_layout(H,scale=2)\n",
    "\n",
    "node_lables = nx.eigenvector_centrality(H)\n",
    "node_sizes = node_lables.copy()\n",
    "\n",
    "for i in range (len(node_lables)):\n",
    "    node_sizes[i] = round(node_lables[i]*10000,2)\n",
    "\n",
    "for i in range (len(node_lables)):\n",
    "    node_lables[i] = str(i)+'\\n'+str(round(node_lables[i],2))\n",
    "nx.draw_networkx(H,pos,node_size=list(node_sizes.values()),node_color=list(nx.eigenvector_centrality(H).values()),cmap=plt.cm.jet,labels=node_lables,font_color='w')\n",
    "\n",
    "plt.show()"
   ]
  }
 ],
 "metadata": {
  "kernelspec": {
   "display_name": "Python [default]",
   "language": "python",
   "name": "python3"
  },
  "language_info": {
   "codemirror_mode": {
    "name": "ipython",
    "version": 3
   },
   "file_extension": ".py",
   "mimetype": "text/x-python",
   "name": "python",
   "nbconvert_exporter": "python",
   "pygments_lexer": "ipython3",
   "version": "3.6.3"
  }
 },
 "nbformat": 4,
 "nbformat_minor": 2
}
